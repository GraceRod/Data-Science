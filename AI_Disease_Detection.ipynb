{
  "nbformat": 4,
  "nbformat_minor": 0,
  "metadata": {
    "colab": {
      "name": "AI Disease Detection.ipynb",
      "provenance": [],
      "include_colab_link": true
    },
    "kernelspec": {
      "display_name": "Python 3",
      "name": "python3"
    }
  },
  "cells": [
    {
      "cell_type": "markdown",
      "metadata": {
        "id": "view-in-github",
        "colab_type": "text"
      },
      "source": [
        "<a href=\"https://colab.research.google.com/github/GraceRod/Serial-Killer-Data-Analysis/blob/main/AI_Disease_Detection.ipynb\" target=\"_parent\"><img src=\"https://colab.research.google.com/assets/colab-badge.svg\" alt=\"Open In Colab\"/></a>"
      ]
    },
    {
      "cell_type": "code",
      "metadata": {
        "id": "A-Uqe7SKYgxS"
      },
      "source": [
        "#Importing all the required libraries\n",
        "import pandas as pd\n",
        "from sklearn import preprocessing\n",
        "from sklearn.tree import DecisionTreeClassifier,_tree\n",
        "import numpy as np\n",
        "from sklearn.model_selection import train_test_split\n",
        "from sklearn.model_selection import cross_val_score\n",
        "from sklearn.svm import SVC\n",
        "import csv\n",
        "import warnings\n",
        "warnings.filterwarnings(\"ignore\", category=DeprecationWarning)"
      ],
      "execution_count": 4,
      "outputs": []
    },
    {
      "cell_type": "code",
      "metadata": {
        "colab": {
          "base_uri": "https://localhost:8080/",
          "height": 206
        },
        "id": "1JPiJRwCV979",
        "outputId": "7321278c-2c51-4019-b937-bbd1f5a74e09"
      },
      "source": [
        "#Symptom description data\n",
        "symptom_description=pd.read_csv('/content/symptom_Description.csv')\n",
        "symptom_description.columns=['Disease','Description']\n",
        "symptom_description.head()"
      ],
      "execution_count": 5,
      "outputs": [
        {
          "output_type": "execute_result",
          "data": {
            "text/plain": [
              "          Disease                                        Description\n",
              "0         Malaria  An infectious disease caused by protozoan para...\n",
              "1         Allergy  An allergy is an immune system response to a f...\n",
              "2  Hypothyroidism  Hypothyroidism, also called underactive thyroi...\n",
              "3       Psoriasis  Psoriasis is a common skin disorder that forms...\n",
              "4            GERD  Gastroesophageal reflux disease, or GERD, is a..."
            ],
            "text/html": [
              "\n",
              "  <div id=\"df-0d62fa55-46c2-4a49-8a1a-a942fbe011b8\">\n",
              "    <div class=\"colab-df-container\">\n",
              "      <div>\n",
              "<style scoped>\n",
              "    .dataframe tbody tr th:only-of-type {\n",
              "        vertical-align: middle;\n",
              "    }\n",
              "\n",
              "    .dataframe tbody tr th {\n",
              "        vertical-align: top;\n",
              "    }\n",
              "\n",
              "    .dataframe thead th {\n",
              "        text-align: right;\n",
              "    }\n",
              "</style>\n",
              "<table border=\"1\" class=\"dataframe\">\n",
              "  <thead>\n",
              "    <tr style=\"text-align: right;\">\n",
              "      <th></th>\n",
              "      <th>Disease</th>\n",
              "      <th>Description</th>\n",
              "    </tr>\n",
              "  </thead>\n",
              "  <tbody>\n",
              "    <tr>\n",
              "      <th>0</th>\n",
              "      <td>Malaria</td>\n",
              "      <td>An infectious disease caused by protozoan para...</td>\n",
              "    </tr>\n",
              "    <tr>\n",
              "      <th>1</th>\n",
              "      <td>Allergy</td>\n",
              "      <td>An allergy is an immune system response to a f...</td>\n",
              "    </tr>\n",
              "    <tr>\n",
              "      <th>2</th>\n",
              "      <td>Hypothyroidism</td>\n",
              "      <td>Hypothyroidism, also called underactive thyroi...</td>\n",
              "    </tr>\n",
              "    <tr>\n",
              "      <th>3</th>\n",
              "      <td>Psoriasis</td>\n",
              "      <td>Psoriasis is a common skin disorder that forms...</td>\n",
              "    </tr>\n",
              "    <tr>\n",
              "      <th>4</th>\n",
              "      <td>GERD</td>\n",
              "      <td>Gastroesophageal reflux disease, or GERD, is a...</td>\n",
              "    </tr>\n",
              "  </tbody>\n",
              "</table>\n",
              "</div>\n",
              "      <button class=\"colab-df-convert\" onclick=\"convertToInteractive('df-0d62fa55-46c2-4a49-8a1a-a942fbe011b8')\"\n",
              "              title=\"Convert this dataframe to an interactive table.\"\n",
              "              style=\"display:none;\">\n",
              "        \n",
              "  <svg xmlns=\"http://www.w3.org/2000/svg\" height=\"24px\"viewBox=\"0 0 24 24\"\n",
              "       width=\"24px\">\n",
              "    <path d=\"M0 0h24v24H0V0z\" fill=\"none\"/>\n",
              "    <path d=\"M18.56 5.44l.94 2.06.94-2.06 2.06-.94-2.06-.94-.94-2.06-.94 2.06-2.06.94zm-11 1L8.5 8.5l.94-2.06 2.06-.94-2.06-.94L8.5 2.5l-.94 2.06-2.06.94zm10 10l.94 2.06.94-2.06 2.06-.94-2.06-.94-.94-2.06-.94 2.06-2.06.94z\"/><path d=\"M17.41 7.96l-1.37-1.37c-.4-.4-.92-.59-1.43-.59-.52 0-1.04.2-1.43.59L10.3 9.45l-7.72 7.72c-.78.78-.78 2.05 0 2.83L4 21.41c.39.39.9.59 1.41.59.51 0 1.02-.2 1.41-.59l7.78-7.78 2.81-2.81c.8-.78.8-2.07 0-2.86zM5.41 20L4 18.59l7.72-7.72 1.47 1.35L5.41 20z\"/>\n",
              "  </svg>\n",
              "      </button>\n",
              "      \n",
              "  <style>\n",
              "    .colab-df-container {\n",
              "      display:flex;\n",
              "      flex-wrap:wrap;\n",
              "      gap: 12px;\n",
              "    }\n",
              "\n",
              "    .colab-df-convert {\n",
              "      background-color: #E8F0FE;\n",
              "      border: none;\n",
              "      border-radius: 50%;\n",
              "      cursor: pointer;\n",
              "      display: none;\n",
              "      fill: #1967D2;\n",
              "      height: 32px;\n",
              "      padding: 0 0 0 0;\n",
              "      width: 32px;\n",
              "    }\n",
              "\n",
              "    .colab-df-convert:hover {\n",
              "      background-color: #E2EBFA;\n",
              "      box-shadow: 0px 1px 2px rgba(60, 64, 67, 0.3), 0px 1px 3px 1px rgba(60, 64, 67, 0.15);\n",
              "      fill: #174EA6;\n",
              "    }\n",
              "\n",
              "    [theme=dark] .colab-df-convert {\n",
              "      background-color: #3B4455;\n",
              "      fill: #D2E3FC;\n",
              "    }\n",
              "\n",
              "    [theme=dark] .colab-df-convert:hover {\n",
              "      background-color: #434B5C;\n",
              "      box-shadow: 0px 1px 3px 1px rgba(0, 0, 0, 0.15);\n",
              "      filter: drop-shadow(0px 1px 2px rgba(0, 0, 0, 0.3));\n",
              "      fill: #FFFFFF;\n",
              "    }\n",
              "  </style>\n",
              "\n",
              "      <script>\n",
              "        const buttonEl =\n",
              "          document.querySelector('#df-0d62fa55-46c2-4a49-8a1a-a942fbe011b8 button.colab-df-convert');\n",
              "        buttonEl.style.display =\n",
              "          google.colab.kernel.accessAllowed ? 'block' : 'none';\n",
              "\n",
              "        async function convertToInteractive(key) {\n",
              "          const element = document.querySelector('#df-0d62fa55-46c2-4a49-8a1a-a942fbe011b8');\n",
              "          const dataTable =\n",
              "            await google.colab.kernel.invokeFunction('convertToInteractive',\n",
              "                                                     [key], {});\n",
              "          if (!dataTable) return;\n",
              "\n",
              "          const docLinkHtml = 'Like what you see? Visit the ' +\n",
              "            '<a target=\"_blank\" href=https://colab.research.google.com/notebooks/data_table.ipynb>data table notebook</a>'\n",
              "            + ' to learn more about interactive tables.';\n",
              "          element.innerHTML = '';\n",
              "          dataTable['output_type'] = 'display_data';\n",
              "          await google.colab.output.renderOutput(dataTable, element);\n",
              "          const docLink = document.createElement('div');\n",
              "          docLink.innerHTML = docLinkHtml;\n",
              "          element.appendChild(docLink);\n",
              "        }\n",
              "      </script>\n",
              "    </div>\n",
              "  </div>\n",
              "  "
            ]
          },
          "metadata": {},
          "execution_count": 5
        }
      ]
    },
    {
      "cell_type": "code",
      "metadata": {
        "colab": {
          "base_uri": "https://localhost:8080/",
          "height": 206
        },
        "id": "dZNJsDLSrJyu",
        "outputId": "091dc84c-ff49-4552-d2fd-b11d9856981d"
      },
      "source": [
        "#Precautions to be taken data\n",
        "symptom_precaution=pd.read_csv('/content/symptom_precaution.csv')\n",
        "symptom_precaution.columns=['Disease','Precaution1','Precaution2','Precaution3','Precaution4']\n",
        "symptom_precaution.head()"
      ],
      "execution_count": 6,
      "outputs": [
        {
          "output_type": "execute_result",
          "data": {
            "text/plain": [
              "          Disease                       Precaution1  \\\n",
              "0         Malaria          Consult nearest hospital   \n",
              "1         Allergy                    apply calamine   \n",
              "2  Hypothyroidism                     reduce stress   \n",
              "3       Psoriasis  wash hands with warm soapy water   \n",
              "4            GERD            avoid fatty spicy food   \n",
              "\n",
              "                     Precaution2              Precaution3  \\\n",
              "0                avoid oily food       avoid non veg food   \n",
              "1        cover area with bandage                      NaN   \n",
              "2                       exercise              eat healthy   \n",
              "3   stop bleeding using pressure           consult doctor   \n",
              "4  avoid lying down after eating  maintain healthy weight   \n",
              "\n",
              "                   Precaution4  \n",
              "0           keep mosquitos out  \n",
              "1  use ice to compress itching  \n",
              "2             get proper sleep  \n",
              "3                   salt baths  \n",
              "4                     exercise  "
            ],
            "text/html": [
              "\n",
              "  <div id=\"df-7094d62e-8c1a-48fb-bfad-c65e83fa1fa5\">\n",
              "    <div class=\"colab-df-container\">\n",
              "      <div>\n",
              "<style scoped>\n",
              "    .dataframe tbody tr th:only-of-type {\n",
              "        vertical-align: middle;\n",
              "    }\n",
              "\n",
              "    .dataframe tbody tr th {\n",
              "        vertical-align: top;\n",
              "    }\n",
              "\n",
              "    .dataframe thead th {\n",
              "        text-align: right;\n",
              "    }\n",
              "</style>\n",
              "<table border=\"1\" class=\"dataframe\">\n",
              "  <thead>\n",
              "    <tr style=\"text-align: right;\">\n",
              "      <th></th>\n",
              "      <th>Disease</th>\n",
              "      <th>Precaution1</th>\n",
              "      <th>Precaution2</th>\n",
              "      <th>Precaution3</th>\n",
              "      <th>Precaution4</th>\n",
              "    </tr>\n",
              "  </thead>\n",
              "  <tbody>\n",
              "    <tr>\n",
              "      <th>0</th>\n",
              "      <td>Malaria</td>\n",
              "      <td>Consult nearest hospital</td>\n",
              "      <td>avoid oily food</td>\n",
              "      <td>avoid non veg food</td>\n",
              "      <td>keep mosquitos out</td>\n",
              "    </tr>\n",
              "    <tr>\n",
              "      <th>1</th>\n",
              "      <td>Allergy</td>\n",
              "      <td>apply calamine</td>\n",
              "      <td>cover area with bandage</td>\n",
              "      <td>NaN</td>\n",
              "      <td>use ice to compress itching</td>\n",
              "    </tr>\n",
              "    <tr>\n",
              "      <th>2</th>\n",
              "      <td>Hypothyroidism</td>\n",
              "      <td>reduce stress</td>\n",
              "      <td>exercise</td>\n",
              "      <td>eat healthy</td>\n",
              "      <td>get proper sleep</td>\n",
              "    </tr>\n",
              "    <tr>\n",
              "      <th>3</th>\n",
              "      <td>Psoriasis</td>\n",
              "      <td>wash hands with warm soapy water</td>\n",
              "      <td>stop bleeding using pressure</td>\n",
              "      <td>consult doctor</td>\n",
              "      <td>salt baths</td>\n",
              "    </tr>\n",
              "    <tr>\n",
              "      <th>4</th>\n",
              "      <td>GERD</td>\n",
              "      <td>avoid fatty spicy food</td>\n",
              "      <td>avoid lying down after eating</td>\n",
              "      <td>maintain healthy weight</td>\n",
              "      <td>exercise</td>\n",
              "    </tr>\n",
              "  </tbody>\n",
              "</table>\n",
              "</div>\n",
              "      <button class=\"colab-df-convert\" onclick=\"convertToInteractive('df-7094d62e-8c1a-48fb-bfad-c65e83fa1fa5')\"\n",
              "              title=\"Convert this dataframe to an interactive table.\"\n",
              "              style=\"display:none;\">\n",
              "        \n",
              "  <svg xmlns=\"http://www.w3.org/2000/svg\" height=\"24px\"viewBox=\"0 0 24 24\"\n",
              "       width=\"24px\">\n",
              "    <path d=\"M0 0h24v24H0V0z\" fill=\"none\"/>\n",
              "    <path d=\"M18.56 5.44l.94 2.06.94-2.06 2.06-.94-2.06-.94-.94-2.06-.94 2.06-2.06.94zm-11 1L8.5 8.5l.94-2.06 2.06-.94-2.06-.94L8.5 2.5l-.94 2.06-2.06.94zm10 10l.94 2.06.94-2.06 2.06-.94-2.06-.94-.94-2.06-.94 2.06-2.06.94z\"/><path d=\"M17.41 7.96l-1.37-1.37c-.4-.4-.92-.59-1.43-.59-.52 0-1.04.2-1.43.59L10.3 9.45l-7.72 7.72c-.78.78-.78 2.05 0 2.83L4 21.41c.39.39.9.59 1.41.59.51 0 1.02-.2 1.41-.59l7.78-7.78 2.81-2.81c.8-.78.8-2.07 0-2.86zM5.41 20L4 18.59l7.72-7.72 1.47 1.35L5.41 20z\"/>\n",
              "  </svg>\n",
              "      </button>\n",
              "      \n",
              "  <style>\n",
              "    .colab-df-container {\n",
              "      display:flex;\n",
              "      flex-wrap:wrap;\n",
              "      gap: 12px;\n",
              "    }\n",
              "\n",
              "    .colab-df-convert {\n",
              "      background-color: #E8F0FE;\n",
              "      border: none;\n",
              "      border-radius: 50%;\n",
              "      cursor: pointer;\n",
              "      display: none;\n",
              "      fill: #1967D2;\n",
              "      height: 32px;\n",
              "      padding: 0 0 0 0;\n",
              "      width: 32px;\n",
              "    }\n",
              "\n",
              "    .colab-df-convert:hover {\n",
              "      background-color: #E2EBFA;\n",
              "      box-shadow: 0px 1px 2px rgba(60, 64, 67, 0.3), 0px 1px 3px 1px rgba(60, 64, 67, 0.15);\n",
              "      fill: #174EA6;\n",
              "    }\n",
              "\n",
              "    [theme=dark] .colab-df-convert {\n",
              "      background-color: #3B4455;\n",
              "      fill: #D2E3FC;\n",
              "    }\n",
              "\n",
              "    [theme=dark] .colab-df-convert:hover {\n",
              "      background-color: #434B5C;\n",
              "      box-shadow: 0px 1px 3px 1px rgba(0, 0, 0, 0.15);\n",
              "      filter: drop-shadow(0px 1px 2px rgba(0, 0, 0, 0.3));\n",
              "      fill: #FFFFFF;\n",
              "    }\n",
              "  </style>\n",
              "\n",
              "      <script>\n",
              "        const buttonEl =\n",
              "          document.querySelector('#df-7094d62e-8c1a-48fb-bfad-c65e83fa1fa5 button.colab-df-convert');\n",
              "        buttonEl.style.display =\n",
              "          google.colab.kernel.accessAllowed ? 'block' : 'none';\n",
              "\n",
              "        async function convertToInteractive(key) {\n",
              "          const element = document.querySelector('#df-7094d62e-8c1a-48fb-bfad-c65e83fa1fa5');\n",
              "          const dataTable =\n",
              "            await google.colab.kernel.invokeFunction('convertToInteractive',\n",
              "                                                     [key], {});\n",
              "          if (!dataTable) return;\n",
              "\n",
              "          const docLinkHtml = 'Like what you see? Visit the ' +\n",
              "            '<a target=\"_blank\" href=https://colab.research.google.com/notebooks/data_table.ipynb>data table notebook</a>'\n",
              "            + ' to learn more about interactive tables.';\n",
              "          element.innerHTML = '';\n",
              "          dataTable['output_type'] = 'display_data';\n",
              "          await google.colab.output.renderOutput(dataTable, element);\n",
              "          const docLink = document.createElement('div');\n",
              "          docLink.innerHTML = docLinkHtml;\n",
              "          element.appendChild(docLink);\n",
              "        }\n",
              "      </script>\n",
              "    </div>\n",
              "  </div>\n",
              "  "
            ]
          },
          "metadata": {},
          "execution_count": 6
        }
      ]
    },
    {
      "cell_type": "code",
      "metadata": {
        "id": "R_Ds8MNtYleT"
      },
      "source": [
        "#Training and testing data\n",
        "training = pd.read_csv('/content/Training.csv')\n",
        "testing= pd.read_csv('/content/Testing.csv')\n",
        "cols= training.columns\n",
        "cols= cols[:-1]\n",
        "x = training[cols]\n",
        "y = training['prognosis']"
      ],
      "execution_count": 7,
      "outputs": []
    },
    {
      "cell_type": "code",
      "metadata": {
        "id": "IAiITpT5Ynb7"
      },
      "source": [
        "#Mapping strings to numbers\n",
        "le = preprocessing.LabelEncoder()\n",
        "le.fit(y)\n",
        "y = le.transform(y)"
      ],
      "execution_count": 8,
      "outputs": []
    },
    {
      "cell_type": "code",
      "metadata": {
        "id": "AF7KtVb1YvHV"
      },
      "source": [
        "#Creating training and validation datasets\n",
        "x_train, x_test, y_train, y_test = train_test_split(x, y, test_size=0.33, random_state=42)"
      ],
      "execution_count": 9,
      "outputs": []
    },
    {
      "cell_type": "code",
      "metadata": {
        "id": "NPdrpM3mZaR5"
      },
      "source": [
        "testx    = testing[cols]\n",
        "testy    = testing['prognosis'] \n",
        "testy    = le.transform(testy)"
      ],
      "execution_count": 10,
      "outputs": []
    },
    {
      "cell_type": "code",
      "metadata": {
        "colab": {
          "base_uri": "https://localhost:8080/"
        },
        "id": "YupbLvoksCP0",
        "outputId": "e1860e0e-9cfa-4aed-9cb9-8e9d4c05b297"
      },
      "source": [
        "print(x.shape, y.shape)\n",
        "print(testx.shape, testy.shape)"
      ],
      "execution_count": 11,
      "outputs": [
        {
          "output_type": "stream",
          "name": "stdout",
          "text": [
            "(4920, 132) (4920,)\n",
            "(4920, 132) (4920,)\n"
          ]
        }
      ]
    },
    {
      "cell_type": "code",
      "metadata": {
        "id": "s0izdyCkbvYG"
      },
      "source": [
        "from keras.utils.np_utils import to_categorical\n",
        "y = to_categorical(y)\n",
        "testy = to_categorical(testy)"
      ],
      "execution_count": 12,
      "outputs": []
    },
    {
      "cell_type": "code",
      "metadata": {
        "colab": {
          "base_uri": "https://localhost:8080/"
        },
        "id": "BGqvUnQtfMRI",
        "outputId": "3e756b44-aa23-4302-b56b-707fd7ce7ae9"
      },
      "source": [
        "print(x.shape, y.shape)\n",
        "print(testx.shape, testy.shape)"
      ],
      "execution_count": 13,
      "outputs": [
        {
          "output_type": "stream",
          "name": "stdout",
          "text": [
            "(4920, 132) (4920, 41)\n",
            "(4920, 132) (4920, 41)\n"
          ]
        }
      ]
    },
    {
      "cell_type": "code",
      "metadata": {
        "id": "POMDW0ItfOC1"
      },
      "source": [
        "from keras.models import Sequential\n",
        "from keras.layers import Dense, BatchNormalization"
      ],
      "execution_count": 14,
      "outputs": []
    },
    {
      "cell_type": "code",
      "metadata": {
        "id": "1NgoRemEfcWo"
      },
      "source": [
        "#Neural network with relu funtion in the hidden layers and softmax function for the output layer\n",
        "model1=Sequential()\n",
        "model1.add(Dense(512,input_dim=132,activation='relu'))\n",
        "model1.add(BatchNormalization())\n",
        "model1.add(Dense(128,activation='relu'))\n",
        "model1.add(BatchNormalization())\n",
        "model1.add(Dense(64,activation='relu'))\n",
        "model1.add(BatchNormalization())\n",
        "model1.add(Dense(41,activation='softmax'))"
      ],
      "execution_count": 15,
      "outputs": []
    },
    {
      "cell_type": "code",
      "metadata": {
        "id": "UJJjblg5harZ"
      },
      "source": [
        "#Adam optimiser\n",
        "model1.compile(loss='categorical_crossentropy',optimizer='adam',metrics=['accuracy'])"
      ],
      "execution_count": 16,
      "outputs": []
    },
    {
      "cell_type": "code",
      "metadata": {
        "colab": {
          "base_uri": "https://localhost:8080/"
        },
        "id": "dGkLdFCEjQCs",
        "outputId": "5ea805be-7f03-4653-a783-5c94faf66223"
      },
      "source": [
        "model1.summary()"
      ],
      "execution_count": 17,
      "outputs": [
        {
          "output_type": "stream",
          "name": "stdout",
          "text": [
            "Model: \"sequential\"\n",
            "_________________________________________________________________\n",
            " Layer (type)                Output Shape              Param #   \n",
            "=================================================================\n",
            " dense (Dense)               (None, 512)               68096     \n",
            "                                                                 \n",
            " batch_normalization (BatchN  (None, 512)              2048      \n",
            " ormalization)                                                   \n",
            "                                                                 \n",
            " dense_1 (Dense)             (None, 128)               65664     \n",
            "                                                                 \n",
            " batch_normalization_1 (Batc  (None, 128)              512       \n",
            " hNormalization)                                                 \n",
            "                                                                 \n",
            " dense_2 (Dense)             (None, 64)                8256      \n",
            "                                                                 \n",
            " batch_normalization_2 (Batc  (None, 64)               256       \n",
            " hNormalization)                                                 \n",
            "                                                                 \n",
            " dense_3 (Dense)             (None, 41)                2665      \n",
            "                                                                 \n",
            "=================================================================\n",
            "Total params: 147,497\n",
            "Trainable params: 146,089\n",
            "Non-trainable params: 1,408\n",
            "_________________________________________________________________\n"
          ]
        }
      ]
    },
    {
      "cell_type": "code",
      "metadata": {
        "id": "53ulj0Gkh_3y"
      },
      "source": [
        "y_train = to_categorical(y_train)\n",
        "y_test = to_categorical(y_test)"
      ],
      "execution_count": 18,
      "outputs": []
    },
    {
      "cell_type": "code",
      "metadata": {
        "colab": {
          "base_uri": "https://localhost:8080/"
        },
        "id": "Cb9Qqx9-mWqQ",
        "outputId": "ddec5872-9cd2-414d-aa17-54a71cde509a"
      },
      "source": [
        "print(x_train.shape, y_train.shape)\n",
        "print(x_test.shape, y_test.shape)"
      ],
      "execution_count": 19,
      "outputs": [
        {
          "output_type": "stream",
          "name": "stdout",
          "text": [
            "(3296, 132) (3296, 41)\n",
            "(1624, 132) (1624, 41)\n"
          ]
        }
      ]
    },
    {
      "cell_type": "code",
      "metadata": {
        "colab": {
          "base_uri": "https://localhost:8080/"
        },
        "id": "YE81nALhsbrj",
        "outputId": "38c66197-7bc0-4603-9f9f-711d791a46e4"
      },
      "source": [
        "history1=model1.fit(x_train, y_train, validation_data = (x_test , y_test) ,epochs=5, batch_size=10)"
      ],
      "execution_count": 20,
      "outputs": [
        {
          "output_type": "stream",
          "name": "stdout",
          "text": [
            "Epoch 1/5\n",
            "330/330 [==============================] - 3s 6ms/step - loss: 0.3889 - accuracy: 0.9515 - val_loss: 0.2831 - val_accuracy: 1.0000\n",
            "Epoch 2/5\n",
            "330/330 [==============================] - 2s 5ms/step - loss: 0.0283 - accuracy: 1.0000 - val_loss: 0.0022 - val_accuracy: 1.0000\n",
            "Epoch 3/5\n",
            "330/330 [==============================] - 2s 5ms/step - loss: 0.0115 - accuracy: 0.9997 - val_loss: 6.0644e-04 - val_accuracy: 1.0000\n",
            "Epoch 4/5\n",
            "330/330 [==============================] - 2s 5ms/step - loss: 0.0062 - accuracy: 1.0000 - val_loss: 3.6137e-04 - val_accuracy: 1.0000\n",
            "Epoch 5/5\n",
            "330/330 [==============================] - 2s 5ms/step - loss: 0.0051 - accuracy: 0.9997 - val_loss: 2.0863e-04 - val_accuracy: 1.0000\n"
          ]
        }
      ]
    },
    {
      "cell_type": "code",
      "metadata": {
        "colab": {
          "base_uri": "https://localhost:8080/"
        },
        "id": "Xb61BCUGCkXx",
        "outputId": "abeb1a37-0ed4-467e-a692-32bf3ecde857"
      },
      "source": [
        "#SGD optimiser\n",
        "model2=Sequential()\n",
        "model2.add(Dense(512,input_dim=132,activation='relu'))\n",
        "model2.add(BatchNormalization())\n",
        "model2.add(Dense(128,activation='relu'))\n",
        "model2.add(BatchNormalization())\n",
        "model2.add(Dense(64,activation='relu'))\n",
        "model2.add(BatchNormalization())\n",
        "model2.add(Dense(41,activation='softmax'))\n",
        "\n",
        "model2.compile(loss='categorical_crossentropy',optimizer='SGD',metrics=['accuracy'])\n",
        "\n",
        "history2=model2.fit(x_train, y_train, validation_data = (x_test , y_test) ,epochs=5, batch_size=10)"
      ],
      "execution_count": 21,
      "outputs": [
        {
          "output_type": "stream",
          "name": "stdout",
          "text": [
            "Epoch 1/5\n",
            "330/330 [==============================] - 3s 4ms/step - loss: 0.6065 - accuracy: 0.9323 - val_loss: 1.1379 - val_accuracy: 0.9951\n",
            "Epoch 2/5\n",
            "330/330 [==============================] - 1s 4ms/step - loss: 0.1336 - accuracy: 0.9979 - val_loss: 0.0243 - val_accuracy: 1.0000\n",
            "Epoch 3/5\n",
            "330/330 [==============================] - 2s 7ms/step - loss: 0.0841 - accuracy: 0.9991 - val_loss: 0.0076 - val_accuracy: 1.0000\n",
            "Epoch 4/5\n",
            "330/330 [==============================] - 1s 4ms/step - loss: 0.0568 - accuracy: 1.0000 - val_loss: 0.0051 - val_accuracy: 1.0000\n",
            "Epoch 5/5\n",
            "330/330 [==============================] - 1s 4ms/step - loss: 0.0425 - accuracy: 0.9997 - val_loss: 0.0037 - val_accuracy: 1.0000\n"
          ]
        }
      ]
    },
    {
      "cell_type": "code",
      "metadata": {
        "colab": {
          "base_uri": "https://localhost:8080/"
        },
        "id": "JgsOHbfFC4aj",
        "outputId": "5b661683-f016-40de-a978-fb5677621d4e"
      },
      "source": [
        "#RMSprop optimiser\n",
        "model3=Sequential()\n",
        "model3.add(Dense(512,input_dim=132,activation='relu'))\n",
        "model3.add(BatchNormalization())\n",
        "model3.add(Dense(128,activation='relu'))\n",
        "model3.add(BatchNormalization())\n",
        "model3.add(Dense(64,activation='relu'))\n",
        "model3.add(BatchNormalization())\n",
        "model3.add(Dense(41,activation='softmax'))\n",
        "\n",
        "model3.compile(loss='categorical_crossentropy',optimizer='RMSprop',metrics=['accuracy'])\n",
        "\n",
        "history3=model3.fit(x_train, y_train, validation_data = (x_test , y_test) ,epochs=5, batch_size=10)"
      ],
      "execution_count": 22,
      "outputs": [
        {
          "output_type": "stream",
          "name": "stdout",
          "text": [
            "Epoch 1/5\n",
            "330/330 [==============================] - 3s 6ms/step - loss: 0.3122 - accuracy: 0.9624 - val_loss: 0.0490 - val_accuracy: 1.0000\n",
            "Epoch 2/5\n",
            "330/330 [==============================] - 2s 5ms/step - loss: 0.0075 - accuracy: 0.9988 - val_loss: 7.8495e-05 - val_accuracy: 1.0000\n",
            "Epoch 3/5\n",
            "330/330 [==============================] - 2s 7ms/step - loss: 0.0024 - accuracy: 0.9997 - val_loss: 6.5968e-06 - val_accuracy: 1.0000\n",
            "Epoch 4/5\n",
            "330/330 [==============================] - 2s 7ms/step - loss: 9.3329e-04 - accuracy: 0.9997 - val_loss: 1.4605e-06 - val_accuracy: 1.0000\n",
            "Epoch 5/5\n",
            "330/330 [==============================] - 2s 5ms/step - loss: 1.8985e-04 - accuracy: 1.0000 - val_loss: 4.7162e-07 - val_accuracy: 1.0000\n"
          ]
        }
      ]
    },
    {
      "cell_type": "code",
      "metadata": {
        "colab": {
          "base_uri": "https://localhost:8080/",
          "height": 350
        },
        "id": "uwbh2fSuCYNu",
        "outputId": "6719dbcf-f8bb-4282-f58d-4352b1ee57f2"
      },
      "source": [
        "import matplotlib.pyplot as plt\n",
        "data = {'Adam':history1.history['loss'][4], 'SGD':history2.history['loss'][4], 'RMSprop':history3.history['loss'][4]} \n",
        "optimizers = list(data.keys()) \n",
        "values = list(data.values()) \n",
        "   \n",
        "fig = plt.figure(figsize = (7, 5)) \n",
        "  \n",
        "# creating the bar plot \n",
        "plt.bar(optimizers, values, width = 0.5) \n",
        "  \n",
        "plt.xlabel(\"Optimizers\") \n",
        "plt.ylabel(\"Training loss\") \n",
        "plt.title(\"Training loss obtained at the 5th (last) epoch using various optimizers\") \n",
        "plt.show() "
      ],
      "execution_count": 23,
      "outputs": [
        {
          "output_type": "display_data",
          "data": {
            "text/plain": [
              "<Figure size 504x360 with 1 Axes>"
            ],
            "image/png": "[encoded data removed]"
          },
          "metadata": {
            "needs_background": "light"
          }
        }
      ]
    },
    {
      "cell_type": "code",
      "metadata": {
        "colab": {
          "base_uri": "https://localhost:8080/",
          "height": 350
        },
        "id": "kHJABFmADg7W",
        "outputId": "878df376-ad12-47ee-fdae-45e546617e52"
      },
      "source": [
        "import matplotlib.pyplot as plt\n",
        "data = {'Adam':history1.history['val_loss'][4], 'SGD':history2.history['val_loss'][4], 'RMSprop':history3.history['val_loss'][4]} \n",
        "optimizers = list(data.keys()) \n",
        "values = list(data.values()) \n",
        "   \n",
        "fig = plt.figure(figsize = (7, 5)) \n",
        "  \n",
        "# creating the bar plot \n",
        "plt.bar(optimizers, values, width = 0.5) \n",
        "  \n",
        "plt.xlabel(\"Optimizers\") \n",
        "plt.ylabel(\"Validation loss\") \n",
        "plt.title(\"Validation loss obtained at the 5th (last) epoch using various optimizers\") \n",
        "plt.show() "
      ],
      "execution_count": 24,
      "outputs": [
        {
          "output_type": "display_data",
          "data": {
            "text/plain": [
              "<Figure size 504x360 with 1 Axes>"
            ],
            "image/png": "[encoded data removed]"
          },
          "metadata": {
            "needs_background": "light"
          }
        }
      ]
    },
    {
      "cell_type": "code",
      "metadata": {
        "colab": {
          "base_uri": "https://localhost:8080/",
          "height": 1000
        },
        "id": "eCIs3Ko8onaw",
        "outputId": "7febf090-0c2d-4b44-83d0-a562e9f774b9"
      },
      "source": [
        "import matplotlib.pyplot as plt\n",
        "plt.plot(history1.history['accuracy'])\n",
        "plt.plot(history2.history['accuracy'])\n",
        "plt.plot(history3.history['accuracy'])\n",
        "plt.title('Training accuracy vs epoch using various optimizers')\n",
        "plt.ylabel('accuracy')\n",
        "plt.xlabel('epoch')\n",
        "plt.legend(['Adam', 'SGD', 'RMSprop'], loc='lower right')\n",
        "plt.show()\n",
        "\n",
        "plt.plot(history1.history['loss'])\n",
        "plt.plot(history2.history['loss'])\n",
        "plt.plot(history3.history['loss'])\n",
        "plt.title('Training loss vs epoch using various optimizers')\n",
        "plt.ylabel('loss')\n",
        "plt.xlabel('epoch')\n",
        "plt.legend(['Adam', 'SGD', 'RMSprop'], loc='upper right')\n",
        "plt.show()\n",
        "\n",
        "plt.plot(history1.history['val_accuracy'])\n",
        "plt.plot(history2.history['val_accuracy'])\n",
        "plt.plot(history3.history['val_accuracy'])\n",
        "plt.title('Validation accuracy vs epoch using various optimizers')\n",
        "plt.ylabel('accuracy')\n",
        "plt.xlabel('epoch')\n",
        "plt.legend(['Adam', 'SGD', 'RMSprop'], loc='lower right')\n",
        "plt.show()\n",
        "\n",
        "plt.plot(history1.history['val_loss'])\n",
        "plt.plot(history2.history['val_loss'])\n",
        "plt.plot(history3.history['val_loss'])\n",
        "plt.title('Validation loss vs epoch using various optimizers')\n",
        "plt.ylabel('loss')\n",
        "plt.xlabel('epoch')\n",
        "plt.legend(['Adam', 'SGD', 'RMSprop'], loc='upper right')\n",
        "plt.show()"
      ],
      "execution_count": 25,
      "outputs": [
        {
          "output_type": "display_data",
          "data": {
            "text/plain": [
              "<Figure size 432x288 with 1 Axes>"
            ],
            "image/png": "[encoded data removed]"
          },
          "metadata": {
            "needs_background": "light"
          }
        },
        {
          "output_type": "display_data",
          "data": {
            "text/plain": [
              "<Figure size 432x288 with 1 Axes>"
            ],
            "image/png": "[encoded data removed]"
          },
          "metadata": {
            "needs_background": "light"
          }
        },
        {
          "output_type": "display_data",
          "data": {
            "text/plain": [
              "<Figure size 432x288 with 1 Axes>"
            ],
            "image/png": "[encoded data removed]"
          },
          "metadata": {
            "needs_background": "light"
          }
        },
        {
          "output_type": "display_data",
          "data": {
            "text/plain": [
              "<Figure size 432x288 with 1 Axes>"
            ],
            "image/png": "[encoded data removed]"
          },
          "metadata": {
            "needs_background": "light"
          }
        }
      ]
    },
    {
      "cell_type": "code",
      "metadata": {
        "id": "SKyrTSOQpBK9"
      },
      "source": [
        "y_pred=model1.predict(testx)\n",
        "y_pred1=np.argmax(y_pred,axis=1)\n",
        "testy1=np.argmax(testy,axis=1)"
      ],
      "execution_count": 26,
      "outputs": []
    },
    {
      "cell_type": "code",
      "metadata": {
        "colab": {
          "base_uri": "https://localhost:8080/"
        },
        "id": "U1uKAhrsqWlq",
        "outputId": "745e9546-0daf-49dd-8530-e9c5db6d8bed"
      },
      "source": [
        "from sklearn.metrics import classification_report\n",
        "print(classification_report(testy1,y_pred1))"
      ],
      "execution_count": 27,
      "outputs": [
        {
          "output_type": "stream",
          "name": "stdout",
          "text": [
            "              precision    recall  f1-score   support\n",
            "\n",
            "           0       1.00      1.00      1.00       120\n",
            "           1       1.00      1.00      1.00       120\n",
            "           2       1.00      1.00      1.00       120\n",
            "           3       1.00      1.00      1.00       120\n",
            "           4       1.00      1.00      1.00       120\n",
            "           5       1.00      1.00      1.00       120\n",
            "           6       1.00      1.00      1.00       120\n",
            "           7       1.00      1.00      1.00       120\n",
            "           8       1.00      1.00      1.00       120\n",
            "           9       1.00      1.00      1.00       120\n",
            "          10       1.00      1.00      1.00       120\n",
            "          11       1.00      1.00      1.00       120\n",
            "          12       1.00      1.00      1.00       120\n",
            "          13       1.00      1.00      1.00       120\n",
            "          14       1.00      1.00      1.00       120\n",
            "          15       1.00      1.00      1.00       120\n",
            "          16       1.00      1.00      1.00       120\n",
            "          17       1.00      1.00      1.00       120\n",
            "          18       1.00      1.00      1.00       120\n",
            "          19       1.00      1.00      1.00       120\n",
            "          20       1.00      1.00      1.00       120\n",
            "          21       1.00      1.00      1.00       120\n",
            "          22       1.00      1.00      1.00       120\n",
            "          23       1.00      1.00      1.00       120\n",
            "          24       1.00      1.00      1.00       120\n",
            "          25       1.00      1.00      1.00       120\n",
            "          26       1.00      1.00      1.00       120\n",
            "          27       1.00      1.00      1.00       120\n",
            "          28       1.00      1.00      1.00       120\n",
            "          29       1.00      1.00      1.00       120\n",
            "          30       1.00      1.00      1.00       120\n",
            "          31       1.00      1.00      1.00       120\n",
            "          32       1.00      1.00      1.00       120\n",
            "          33       1.00      1.00      1.00       120\n",
            "          34       1.00      1.00      1.00       120\n",
            "          35       1.00      1.00      1.00       120\n",
            "          36       1.00      1.00      1.00       120\n",
            "          37       1.00      1.00      1.00       120\n",
            "          38       1.00      1.00      1.00       120\n",
            "          39       1.00      1.00      1.00       120\n",
            "          40       1.00      1.00      1.00       120\n",
            "\n",
            "    accuracy                           1.00      4920\n",
            "   macro avg       1.00      1.00      1.00      4920\n",
            "weighted avg       1.00      1.00      1.00      4920\n",
            "\n"
          ]
        }
      ]
    },
    {
      "cell_type": "code",
      "metadata": {
        "colab": {
          "base_uri": "https://localhost:8080/",
          "height": 174
        },
        "id": "bMJZhnOKxIBl",
        "outputId": "ac9916d6-904d-46cb-fe04-48787ddd3c47"
      },
      "source": [
        "symptoms=pd.DataFrame(columns=x.columns)\n",
        "symptoms.at[0,symptoms.columns]=int(0)\n",
        "symptoms"
      ],
      "execution_count": 28,
      "outputs": [
        {
          "output_type": "execute_result",
          "data": {
            "text/plain": [
              "  itching skin_rash nodal_skin_eruptions continuous_sneezing shivering chills  \\\n",
              "0       0         0                    0                   0         0      0   \n",
              "\n",
              "  joint_pain stomach_pain acidity ulcers_on_tongue  ... pus_filled_pimples  \\\n",
              "0          0            0       0                0  ...                  0   \n",
              "\n",
              "  blackheads scurring skin_peeling silver_like_dusting small_dents_in_nails  \\\n",
              "0          0        0            0                   0                    0   \n",
              "\n",
              "  inflammatory_nails blister red_sore_around_nose yellow_crust_ooze  \n",
              "0                  0       0                    0                 0  \n",
              "\n",
              "[1 rows x 132 columns]"
            ],
            "text/html": [
              "\n",
              "  <div id=\"df-b0827590-aac8-4e5e-98c4-97ea06eee191\">\n",
              "    <div class=\"colab-df-container\">\n",
              "      <div>\n",
              "<style scoped>\n",
              "    .dataframe tbody tr th:only-of-type {\n",
              "        vertical-align: middle;\n",
              "    }\n",
              "\n",
              "    .dataframe tbody tr th {\n",
              "        vertical-align: top;\n",
              "    }\n",
              "\n",
              "    .dataframe thead th {\n",
              "        text-align: right;\n",
              "    }\n",
              "</style>\n",
              "<table border=\"1\" class=\"dataframe\">\n",
              "  <thead>\n",
              "    <tr style=\"text-align: right;\">\n",
              "      <th></th>\n",
              "      <th>itching</th>\n",
              "      <th>skin_rash</th>\n",
              "      <th>nodal_skin_eruptions</th>\n",
              "      <th>continuous_sneezing</th>\n",
              "      <th>shivering</th>\n",
              "      <th>chills</th>\n",
              "      <th>joint_pain</th>\n",
              "      <th>stomach_pain</th>\n",
              "      <th>acidity</th>\n",
              "      <th>ulcers_on_tongue</th>\n",
              "      <th>...</th>\n",
              "      <th>pus_filled_pimples</th>\n",
              "      <th>blackheads</th>\n",
              "      <th>scurring</th>\n",
              "      <th>skin_peeling</th>\n",
              "      <th>silver_like_dusting</th>\n",
              "      <th>small_dents_in_nails</th>\n",
              "      <th>inflammatory_nails</th>\n",
              "      <th>blister</th>\n",
              "      <th>red_sore_around_nose</th>\n",
              "      <th>yellow_crust_ooze</th>\n",
              "    </tr>\n",
              "  </thead>\n",
              "  <tbody>\n",
              "    <tr>\n",
              "      <th>0</th>\n",
              "      <td>0</td>\n",
              "      <td>0</td>\n",
              "      <td>0</td>\n",
              "      <td>0</td>\n",
              "      <td>0</td>\n",
              "      <td>0</td>\n",
              "      <td>0</td>\n",
              "      <td>0</td>\n",
              "      <td>0</td>\n",
              "      <td>0</td>\n",
              "      <td>...</td>\n",
              "      <td>0</td>\n",
              "      <td>0</td>\n",
              "      <td>0</td>\n",
              "      <td>0</td>\n",
              "      <td>0</td>\n",
              "      <td>0</td>\n",
              "      <td>0</td>\n",
              "      <td>0</td>\n",
              "      <td>0</td>\n",
              "      <td>0</td>\n",
              "    </tr>\n",
              "  </tbody>\n",
              "</table>\n",
              "<p>1 rows × 132 columns</p>\n",
              "</div>\n",
              "      <button class=\"colab-df-convert\" onclick=\"convertToInteractive('df-b0827590-aac8-4e5e-98c4-97ea06eee191')\"\n",
              "              title=\"Convert this dataframe to an interactive table.\"\n",
              "              style=\"display:none;\">\n",
              "        \n",
              "  <svg xmlns=\"http://www.w3.org/2000/svg\" height=\"24px\"viewBox=\"0 0 24 24\"\n",
              "       width=\"24px\">\n",
              "    <path d=\"M0 0h24v24H0V0z\" fill=\"none\"/>\n",
              "    <path d=\"M18.56 5.44l.94 2.06.94-2.06 2.06-.94-2.06-.94-.94-2.06-.94 2.06-2.06.94zm-11 1L8.5 8.5l.94-2.06 2.06-.94-2.06-.94L8.5 2.5l-.94 2.06-2.06.94zm10 10l.94 2.06.94-2.06 2.06-.94-2.06-.94-.94-2.06-.94 2.06-2.06.94z\"/><path d=\"M17.41 7.96l-1.37-1.37c-.4-.4-.92-.59-1.43-.59-.52 0-1.04.2-1.43.59L10.3 9.45l-7.72 7.72c-.78.78-.78 2.05 0 2.83L4 21.41c.39.39.9.59 1.41.59.51 0 1.02-.2 1.41-.59l7.78-7.78 2.81-2.81c.8-.78.8-2.07 0-2.86zM5.41 20L4 18.59l7.72-7.72 1.47 1.35L5.41 20z\"/>\n",
              "  </svg>\n",
              "      </button>\n",
              "      \n",
              "  <style>\n",
              "    .colab-df-container {\n",
              "      display:flex;\n",
              "      flex-wrap:wrap;\n",
              "      gap: 12px;\n",
              "    }\n",
              "\n",
              "    .colab-df-convert {\n",
              "      background-color: #E8F0FE;\n",
              "      border: none;\n",
              "      border-radius: 50%;\n",
              "      cursor: pointer;\n",
              "      display: none;\n",
              "      fill: #1967D2;\n",
              "      height: 32px;\n",
              "      padding: 0 0 0 0;\n",
              "      width: 32px;\n",
              "    }\n",
              "\n",
              "    .colab-df-convert:hover {\n",
              "      background-color: #E2EBFA;\n",
              "      box-shadow: 0px 1px 2px rgba(60, 64, 67, 0.3), 0px 1px 3px 1px rgba(60, 64, 67, 0.15);\n",
              "      fill: #174EA6;\n",
              "    }\n",
              "\n",
              "    [theme=dark] .colab-df-convert {\n",
              "      background-color: #3B4455;\n",
              "      fill: #D2E3FC;\n",
              "    }\n",
              "\n",
              "    [theme=dark] .colab-df-convert:hover {\n",
              "      background-color: #434B5C;\n",
              "      box-shadow: 0px 1px 3px 1px rgba(0, 0, 0, 0.15);\n",
              "      filter: drop-shadow(0px 1px 2px rgba(0, 0, 0, 0.3));\n",
              "      fill: #FFFFFF;\n",
              "    }\n",
              "  </style>\n",
              "\n",
              "      <script>\n",
              "        const buttonEl =\n",
              "          document.querySelector('#df-b0827590-aac8-4e5e-98c4-97ea06eee191 button.colab-df-convert');\n",
              "        buttonEl.style.display =\n",
              "          google.colab.kernel.accessAllowed ? 'block' : 'none';\n",
              "\n",
              "        async function convertToInteractive(key) {\n",
              "          const element = document.querySelector('#df-b0827590-aac8-4e5e-98c4-97ea06eee191');\n",
              "          const dataTable =\n",
              "            await google.colab.kernel.invokeFunction('convertToInteractive',\n",
              "                                                     [key], {});\n",
              "          if (!dataTable) return;\n",
              "\n",
              "          const docLinkHtml = 'Like what you see? Visit the ' +\n",
              "            '<a target=\"_blank\" href=https://colab.research.google.com/notebooks/data_table.ipynb>data table notebook</a>'\n",
              "            + ' to learn more about interactive tables.';\n",
              "          element.innerHTML = '';\n",
              "          dataTable['output_type'] = 'display_data';\n",
              "          await google.colab.output.renderOutput(dataTable, element);\n",
              "          const docLink = document.createElement('div');\n",
              "          docLink.innerHTML = docLinkHtml;\n",
              "          element.appendChild(docLink);\n",
              "        }\n",
              "      </script>\n",
              "    </div>\n",
              "  </div>\n",
              "  "
            ]
          },
          "metadata": {},
          "execution_count": 28
        }
      ]
    },
    {
      "cell_type": "code",
      "metadata": {
        "id": "O2Ac_IWIvafo"
      },
      "source": [
        "def getDisease():\n",
        "  symptoms=pd.DataFrame(columns=x.columns)\n",
        "  symptoms.at[0,symptoms.columns]=int(0)\n",
        "  \n",
        "  n=int(input('How many symptoms are you experiencing? '))\n",
        "  for i in range(n):\n",
        "    symp=input('Enter the symptom: ')\n",
        "    if symp in symptoms.columns:\n",
        "      symptoms.at[0,symp]=int(1)\n",
        "\n",
        "  symps=symptoms.astype(float).astype('int64')\n",
        "\n",
        "  pred_dis=model3.predict(symps)\n",
        "  disease=np.argmax(pred_dis,axis=1)\n",
        "  disease_name=le.inverse_transform(disease)\n",
        "  description_position=symptom_description[symptom_description['Disease']==disease_name[0]].index.values\n",
        "  precaution_position=symptom_precaution[symptom_precaution['Disease']==disease_name[0]].index.values\n",
        "\n",
        "  precaution1=symptom_precaution['Precaution1'].loc[precaution_position[0]]\n",
        "  precaution2=symptom_precaution['Precaution2'].loc[precaution_position[0]]\n",
        "  precaution3=symptom_precaution['Precaution3'].loc[precaution_position[0]]\n",
        "  return print('You have',disease_name[0],'\\n\\n',symptom_description['Description'].loc[description_position[0]],'\\n\\n','You can do the following to treat your symptoms: \\n',precaution1,'\\n',precaution2,'\\n',precaution3)"
      ],
      "execution_count": 32,
      "outputs": []
    },
    {
      "cell_type": "code",
      "metadata": {
        "id": "kYnq-M5lyBPi",
        "colab": {
          "base_uri": "https://localhost:8080/"
        },
        "outputId": "35eb2d43-6d17-49c6-b4b7-ae5d7380bc7c"
      },
      "source": [
        "getDisease()"
      ],
      "execution_count": 34,
      "outputs": [
        {
          "output_type": "stream",
          "name": "stdout",
          "text": [
            "How many symptoms are you experiencing? 2\n",
            "Enter the symptom: itching\n",
            "Enter the symptom: skin_rash\n",
            "You have Fungal infection \n",
            "\n",
            " In humans, fungal infections occur when an invading fungus takes over an area of the body and is too much for the immune system to handle. Fungi can live in the air, soil, water, and plants. There are also some fungi that live naturally in the human body. Like many microbes, there are helpful fungi and harmful fungi. \n",
            "\n",
            " You can do the following to treat your symptoms: \n",
            " bath twice \n",
            " use detol or neem in bathing water \n",
            " keep infected area dry\n"
          ]
        }
      ]
    }
  ]
}